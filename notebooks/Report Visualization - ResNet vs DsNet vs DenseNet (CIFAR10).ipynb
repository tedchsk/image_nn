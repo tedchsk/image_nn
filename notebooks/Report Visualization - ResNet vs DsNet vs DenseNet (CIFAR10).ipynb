{
 "cells": [
  {
   "cell_type": "markdown",
   "id": "019095b6",
   "metadata": {},
   "source": [
    "### ResNet vs DsNet vs DenseNet (CIFAR10)"
   ]
  },
  {
   "cell_type": "code",
   "execution_count": 40,
   "id": "b5134aa0",
   "metadata": {},
   "outputs": [],
   "source": [
    "import os\n",
    "import math\n",
    "import numpy as np\n",
    "import pandas as pd\n",
    "import seaborn as sns\n",
    "import matplotlib.pyplot as plt\n",
    "from core.result_reader import combine_run_experiments, combine_run_training_logs"
   ]
  },
  {
   "cell_type": "code",
   "execution_count": 41,
   "id": "10ccaf67",
   "metadata": {},
   "outputs": [
    {
     "data": {
      "text/html": [
       "<div>\n",
       "<style scoped>\n",
       "    .dataframe tbody tr th:only-of-type {\n",
       "        vertical-align: middle;\n",
       "    }\n",
       "\n",
       "    .dataframe tbody tr th {\n",
       "        vertical-align: top;\n",
       "    }\n",
       "\n",
       "    .dataframe thead th {\n",
       "        text-align: right;\n",
       "    }\n",
       "</style>\n",
       "<table border=\"1\" class=\"dataframe\">\n",
       "  <thead>\n",
       "    <tr style=\"text-align: right;\">\n",
       "      <th></th>\n",
       "      <th>model_name</th>\n",
       "      <th>model_size</th>\n",
       "      <th>batch_size</th>\n",
       "      <th>learning_rate</th>\n",
       "      <th>train_err</th>\n",
       "      <th>val_err</th>\n",
       "      <th>test_err</th>\n",
       "      <th>hour_trained</th>\n",
       "      <th>train_acc</th>\n",
       "      <th>val_acc</th>\n",
       "      <th>test_acc</th>\n",
       "    </tr>\n",
       "  </thead>\n",
       "  <tbody>\n",
       "    <tr>\n",
       "      <th>0</th>\n",
       "      <td>ResNet</td>\n",
       "      <td>3</td>\n",
       "      <td>32</td>\n",
       "      <td>0.1</td>\n",
       "      <td>0.02726</td>\n",
       "      <td>0.0892</td>\n",
       "      <td>0.0870</td>\n",
       "      <td>0.915769</td>\n",
       "      <td>0.97274</td>\n",
       "      <td>0.9108</td>\n",
       "      <td>0.9130</td>\n",
       "    </tr>\n",
       "    <tr>\n",
       "      <th>1</th>\n",
       "      <td>DsNet</td>\n",
       "      <td>3</td>\n",
       "      <td>32</td>\n",
       "      <td>0.1</td>\n",
       "      <td>0.02020</td>\n",
       "      <td>0.0824</td>\n",
       "      <td>0.0930</td>\n",
       "      <td>1.155313</td>\n",
       "      <td>0.97980</td>\n",
       "      <td>0.9176</td>\n",
       "      <td>0.9070</td>\n",
       "    </tr>\n",
       "    <tr>\n",
       "      <th>2</th>\n",
       "      <td>DenseNet</td>\n",
       "      <td>3</td>\n",
       "      <td>32</td>\n",
       "      <td>0.1</td>\n",
       "      <td>0.02794</td>\n",
       "      <td>0.0818</td>\n",
       "      <td>0.0810</td>\n",
       "      <td>1.441266</td>\n",
       "      <td>0.97206</td>\n",
       "      <td>0.9182</td>\n",
       "      <td>0.9190</td>\n",
       "    </tr>\n",
       "    <tr>\n",
       "      <th>3</th>\n",
       "      <td>ResNet</td>\n",
       "      <td>8</td>\n",
       "      <td>32</td>\n",
       "      <td>0.1</td>\n",
       "      <td>0.00858</td>\n",
       "      <td>0.0792</td>\n",
       "      <td>0.0814</td>\n",
       "      <td>1.517922</td>\n",
       "      <td>0.99142</td>\n",
       "      <td>0.9208</td>\n",
       "      <td>0.9186</td>\n",
       "    </tr>\n",
       "    <tr>\n",
       "      <th>4</th>\n",
       "      <td>DsNet</td>\n",
       "      <td>8</td>\n",
       "      <td>32</td>\n",
       "      <td>0.1</td>\n",
       "      <td>0.01090</td>\n",
       "      <td>0.0786</td>\n",
       "      <td>0.0790</td>\n",
       "      <td>2.921859</td>\n",
       "      <td>0.98910</td>\n",
       "      <td>0.9214</td>\n",
       "      <td>0.9210</td>\n",
       "    </tr>\n",
       "    <tr>\n",
       "      <th>5</th>\n",
       "      <td>DenseNet</td>\n",
       "      <td>8</td>\n",
       "      <td>32</td>\n",
       "      <td>0.1</td>\n",
       "      <td>0.00314</td>\n",
       "      <td>0.0568</td>\n",
       "      <td>0.0558</td>\n",
       "      <td>4.286736</td>\n",
       "      <td>0.99686</td>\n",
       "      <td>0.9432</td>\n",
       "      <td>0.9442</td>\n",
       "    </tr>\n",
       "  </tbody>\n",
       "</table>\n",
       "</div>"
      ],
      "text/plain": [
       "  model_name  model_size  batch_size  learning_rate  train_err  val_err  \\\n",
       "0     ResNet           3          32            0.1    0.02726   0.0892   \n",
       "1      DsNet           3          32            0.1    0.02020   0.0824   \n",
       "2   DenseNet           3          32            0.1    0.02794   0.0818   \n",
       "3     ResNet           8          32            0.1    0.00858   0.0792   \n",
       "4      DsNet           8          32            0.1    0.01090   0.0786   \n",
       "5   DenseNet           8          32            0.1    0.00314   0.0568   \n",
       "\n",
       "   test_err  hour_trained  train_acc  val_acc  test_acc  \n",
       "0    0.0870      0.915769    0.97274   0.9108    0.9130  \n",
       "1    0.0930      1.155313    0.97980   0.9176    0.9070  \n",
       "2    0.0810      1.441266    0.97206   0.9182    0.9190  \n",
       "3    0.0814      1.517922    0.99142   0.9208    0.9186  \n",
       "4    0.0790      2.921859    0.98910   0.9214    0.9210  \n",
       "5    0.0558      4.286736    0.99686   0.9432    0.9442  "
      ]
     },
     "execution_count": 41,
     "metadata": {},
     "output_type": "execute_result"
    }
   ],
   "source": [
    "df = pd.read_csv(\"CIFAR10_results.csv\")\n",
    "#df[\"model_name\"] = df[\"model_name\"] + \"_\" + df[\"model_size\"].apply(str) + \"_\" + df[\"batch_size\"].apply(str) + \"_\" + df[\"learning_rate\"].apply(str)\n",
    "# df[\"model_name\"] = df.exp_name.apply(lambda x: x.split(\"_\")[0])\n",
    "# df[\"model_size\"] = df.exp_name.apply(lambda x: int(x.split(\"_\")[1]))\n",
    "# df[\"batch_size\"] = df.exp_name.apply(lambda x: int(x.split(\"_\")[2]))\n",
    "# df[\"learning_rate\"] = df.exp_name.apply(lambda x: float(x.split(\"_\")[3]))\n",
    "df"
   ]
  },
  {
   "cell_type": "code",
   "execution_count": 42,
   "id": "9d1aab28",
   "metadata": {},
   "outputs": [
    {
     "data": {
      "text/html": [
       "<div>\n",
       "<style scoped>\n",
       "    .dataframe tbody tr th:only-of-type {\n",
       "        vertical-align: middle;\n",
       "    }\n",
       "\n",
       "    .dataframe tbody tr th {\n",
       "        vertical-align: top;\n",
       "    }\n",
       "\n",
       "    .dataframe thead th {\n",
       "        text-align: right;\n",
       "    }\n",
       "</style>\n",
       "<table border=\"1\" class=\"dataframe\">\n",
       "  <thead>\n",
       "    <tr style=\"text-align: right;\">\n",
       "      <th></th>\n",
       "      <th>model_name</th>\n",
       "      <th>model_size</th>\n",
       "      <th>batch_size</th>\n",
       "      <th>learning_rate</th>\n",
       "      <th>train_err</th>\n",
       "      <th>val_err</th>\n",
       "      <th>val_acc</th>\n",
       "      <th>test_err</th>\n",
       "      <th>test_acc</th>\n",
       "      <th>hour_trained</th>\n",
       "    </tr>\n",
       "  </thead>\n",
       "  <tbody>\n",
       "    <tr>\n",
       "      <th>0</th>\n",
       "      <td>ResNet</td>\n",
       "      <td>3</td>\n",
       "      <td>32</td>\n",
       "      <td>0.1</td>\n",
       "      <td>0.02726</td>\n",
       "      <td>0.0892</td>\n",
       "      <td>0.9108</td>\n",
       "      <td>0.0870</td>\n",
       "      <td>0.9130</td>\n",
       "      <td>0.915769</td>\n",
       "    </tr>\n",
       "    <tr>\n",
       "      <th>1</th>\n",
       "      <td>DsNet</td>\n",
       "      <td>3</td>\n",
       "      <td>32</td>\n",
       "      <td>0.1</td>\n",
       "      <td>0.02020</td>\n",
       "      <td>0.0824</td>\n",
       "      <td>0.9176</td>\n",
       "      <td>0.0930</td>\n",
       "      <td>0.9070</td>\n",
       "      <td>1.155313</td>\n",
       "    </tr>\n",
       "    <tr>\n",
       "      <th>2</th>\n",
       "      <td>DenseNet</td>\n",
       "      <td>3</td>\n",
       "      <td>32</td>\n",
       "      <td>0.1</td>\n",
       "      <td>0.02794</td>\n",
       "      <td>0.0818</td>\n",
       "      <td>0.9182</td>\n",
       "      <td>0.0810</td>\n",
       "      <td>0.9190</td>\n",
       "      <td>1.441266</td>\n",
       "    </tr>\n",
       "    <tr>\n",
       "      <th>3</th>\n",
       "      <td>ResNet</td>\n",
       "      <td>8</td>\n",
       "      <td>32</td>\n",
       "      <td>0.1</td>\n",
       "      <td>0.00858</td>\n",
       "      <td>0.0792</td>\n",
       "      <td>0.9208</td>\n",
       "      <td>0.0814</td>\n",
       "      <td>0.9186</td>\n",
       "      <td>1.517922</td>\n",
       "    </tr>\n",
       "    <tr>\n",
       "      <th>4</th>\n",
       "      <td>DsNet</td>\n",
       "      <td>8</td>\n",
       "      <td>32</td>\n",
       "      <td>0.1</td>\n",
       "      <td>0.01090</td>\n",
       "      <td>0.0786</td>\n",
       "      <td>0.9214</td>\n",
       "      <td>0.0790</td>\n",
       "      <td>0.9210</td>\n",
       "      <td>2.921859</td>\n",
       "    </tr>\n",
       "    <tr>\n",
       "      <th>5</th>\n",
       "      <td>DenseNet</td>\n",
       "      <td>8</td>\n",
       "      <td>32</td>\n",
       "      <td>0.1</td>\n",
       "      <td>0.00314</td>\n",
       "      <td>0.0568</td>\n",
       "      <td>0.9432</td>\n",
       "      <td>0.0558</td>\n",
       "      <td>0.9442</td>\n",
       "      <td>4.286736</td>\n",
       "    </tr>\n",
       "  </tbody>\n",
       "</table>\n",
       "</div>"
      ],
      "text/plain": [
       "  model_name  model_size  batch_size  learning_rate  train_err  val_err  \\\n",
       "0     ResNet           3          32            0.1    0.02726   0.0892   \n",
       "1      DsNet           3          32            0.1    0.02020   0.0824   \n",
       "2   DenseNet           3          32            0.1    0.02794   0.0818   \n",
       "3     ResNet           8          32            0.1    0.00858   0.0792   \n",
       "4      DsNet           8          32            0.1    0.01090   0.0786   \n",
       "5   DenseNet           8          32            0.1    0.00314   0.0568   \n",
       "\n",
       "   val_acc  test_err  test_acc  hour_trained  \n",
       "0   0.9108    0.0870    0.9130      0.915769  \n",
       "1   0.9176    0.0930    0.9070      1.155313  \n",
       "2   0.9182    0.0810    0.9190      1.441266  \n",
       "3   0.9208    0.0814    0.9186      1.517922  \n",
       "4   0.9214    0.0790    0.9210      2.921859  \n",
       "5   0.9432    0.0558    0.9442      4.286736  "
      ]
     },
     "execution_count": 42,
     "metadata": {},
     "output_type": "execute_result"
    }
   ],
   "source": [
    "cols = [\n",
    "    \"model_name\", \n",
    "    \"model_size\", \n",
    "    \"batch_size\", \n",
    "    \"learning_rate\", \n",
    "    \"train_err\", \n",
    "    \"val_err\", \n",
    "    \"val_acc\",\n",
    "    \"test_err\",\n",
    "    \"test_acc\",\n",
    "    \"hour_trained\"\n",
    "]\n",
    "\n",
    "df[cols]"
   ]
  },
  {
   "cell_type": "code",
   "execution_count": 47,
   "id": "7c713949",
   "metadata": {
    "scrolled": false
   },
   "outputs": [
    {
     "data": {
      "text/plain": [
       "Text(0.5, 1.0, 'CIFAR-10')"
      ]
     },
     "execution_count": 47,
     "metadata": {},
     "output_type": "execute_result"
    },
    {
     "data": {
      "image/png": "[encoded data removed]",
      "text/plain": [
       "<Figure size 432x288 with 1 Axes>"
      ]
     },
     "metadata": {},
     "output_type": "display_data"
    }
   ],
   "source": [
    "sns.set_style(\"white\")\n",
    "sns.lineplot(data=df.sort_values(\"hour_trained\"), x=\"model_size\", y=\"test_acc\", hue=\"model_name\", style=\"model_name\", markers=True)\n",
    "plt.title(\"CIFAR-10\")"
   ]
  },
  {
   "cell_type": "code",
   "execution_count": 48,
   "id": "ae6ed735",
   "metadata": {},
   "outputs": [
    {
     "data": {
      "text/plain": [
       "Text(0.5, 1.0, 'CIFAR-10')"
      ]
     },
     "execution_count": 48,
     "metadata": {},
     "output_type": "execute_result"
    },
    {
     "data": {
      "image/png": "[encoded data removed]",
      "text/plain": [
       "<Figure size 432x288 with 1 Axes>"
      ]
     },
     "metadata": {},
     "output_type": "display_data"
    }
   ],
   "source": [
    "sns.set_style(\"white\")\n",
    "sns.lineplot(data=df, x=\"model_size\", y=\"hour_trained\", hue=\"model_name\", style=\"model_name\", markers=True)\n",
    "plt.title(\"CIFAR-10\")"
   ]
  },
  {
   "cell_type": "code",
   "execution_count": null,
   "id": "f03527f6",
   "metadata": {},
   "outputs": [],
   "source": []
  }
 ],
 "metadata": {
  "kernelspec": {
   "display_name": "Python 3 (ipykernel)",
   "language": "python",
   "name": "python3"
  },
  "language_info": {
   "codemirror_mode": {
    "name": "ipython",
    "version": 3
   },
   "file_extension": ".py",
   "mimetype": "text/x-python",
   "name": "python",
   "nbconvert_exporter": "python",
   "pygments_lexer": "ipython3",
   "version": "3.9.11"
  }
 },
 "nbformat": 4,
 "nbformat_minor": 5
}
